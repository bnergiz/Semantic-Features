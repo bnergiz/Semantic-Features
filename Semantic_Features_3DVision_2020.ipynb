{
  "nbformat": 4,
  "nbformat_minor": 0,
  "metadata": {
    "colab": {
      "name": "Semantic_Features_3DVision_2020.ipynb",
      "provenance": [],
      "collapsed_sections": [],
      "toc_visible": true,
      "include_colab_link": true
    },
    "kernelspec": {
      "name": "python3",
      "display_name": "Python 3"
    },
    "accelerator": "GPU"
  },
  "cells": [
    {
      "cell_type": "markdown",
      "metadata": {
        "id": "view-in-github",
        "colab_type": "text"
      },
      "source": [
        "<a href=\"https://colab.research.google.com/github/juuuuuuuuuu/Semantic-Features/blob/master/Semantic_Features_3DVision_2020.ipynb\" target=\"_parent\"><img src=\"https://colab.research.google.com/assets/colab-badge.svg\" alt=\"Open In Colab\"/></a>"
      ]
    },
    {
      "cell_type": "markdown",
      "metadata": {
        "id": "KERvIJ-nkskO",
        "colab_type": "text"
      },
      "source": [
        "Our mapping pipeline is of the following structure:\n",
        "\n",
        "1.   Detection of objects of certain object classes (e.g. traffic sign). Output: object bounding boxes\n",
        "2.   Triangulation of objects. Output: object position relative to pose\n",
        "3.   Creating map of objects. (And refining with filter, BA, etc.) Output: List of objects and their corresponding positions\n",
        "4.   Visualizing map.\n",
        "\n",
        "\n",
        "\n"
      ]
    },
    {
      "cell_type": "markdown",
      "metadata": {
        "id": "t1TSOFcEnsjx",
        "colab_type": "text"
      },
      "source": [
        "We start by loading the benchmark dataset. The Cityscapes dataset is used. \n",
        "\n",
        "Scripts for analyzing the dataset can be found here: https://github.com/mcordts/cityscapesScripts\n"
      ]
    },
    {
      "cell_type": "code",
      "metadata": {
        "id": "90OSmAcrn9dC",
        "colab_type": "code",
        "colab": {
          "base_uri": "https://localhost:8080/",
          "height": 1000
        },
        "outputId": "a51f2b58-8e20-4e4e-93ff-7b9335a43e71"
      },
      "source": [
        "!python -m pip install cityscapesscripts\n",
        "!sudo apt install python-tk python-qt4"
      ],
      "execution_count": 10,
      "outputs": [
        {
          "output_type": "stream",
          "text": [
            "Collecting cityscapesscripts\n",
            "\u001b[?25l  Downloading https://files.pythonhosted.org/packages/66/dc/c1c7a9b4373027a279a25c4f04020e15c2bc93f0fc15b6041e9e587efd3c/cityscapesScripts-1.3.1-py3-none-any.whl (435kB)\n",
            "\r\u001b[K     |▊                               | 10kB 22.4MB/s eta 0:00:01\r\u001b[K     |█▌                              | 20kB 3.2MB/s eta 0:00:01\r\u001b[K     |██▎                             | 30kB 4.2MB/s eta 0:00:01\r\u001b[K     |███                             | 40kB 3.0MB/s eta 0:00:01\r\u001b[K     |███▊                            | 51kB 3.4MB/s eta 0:00:01\r\u001b[K     |████▌                           | 61kB 4.0MB/s eta 0:00:01\r\u001b[K     |█████▎                          | 71kB 4.2MB/s eta 0:00:01\r\u001b[K     |██████                          | 81kB 4.6MB/s eta 0:00:01\r\u001b[K     |██████▊                         | 92kB 5.1MB/s eta 0:00:01\r\u001b[K     |███████▌                        | 102kB 4.8MB/s eta 0:00:01\r\u001b[K     |████████▎                       | 112kB 4.8MB/s eta 0:00:01\r\u001b[K     |█████████                       | 122kB 4.8MB/s eta 0:00:01\r\u001b[K     |█████████▉                      | 133kB 4.8MB/s eta 0:00:01\r\u001b[K     |██████████▌                     | 143kB 4.8MB/s eta 0:00:01\r\u001b[K     |███████████▎                    | 153kB 4.8MB/s eta 0:00:01\r\u001b[K     |████████████                    | 163kB 4.8MB/s eta 0:00:01\r\u001b[K     |████████████▉                   | 174kB 4.8MB/s eta 0:00:01\r\u001b[K     |█████████████▌                  | 184kB 4.8MB/s eta 0:00:01\r\u001b[K     |██████████████▎                 | 194kB 4.8MB/s eta 0:00:01\r\u001b[K     |███████████████                 | 204kB 4.8MB/s eta 0:00:01\r\u001b[K     |███████████████▉                | 215kB 4.8MB/s eta 0:00:01\r\u001b[K     |████████████████▌               | 225kB 4.8MB/s eta 0:00:01\r\u001b[K     |█████████████████▎              | 235kB 4.8MB/s eta 0:00:01\r\u001b[K     |██████████████████              | 245kB 4.8MB/s eta 0:00:01\r\u001b[K     |██████████████████▉             | 256kB 4.8MB/s eta 0:00:01\r\u001b[K     |███████████████████▋            | 266kB 4.8MB/s eta 0:00:01\r\u001b[K     |████████████████████▎           | 276kB 4.8MB/s eta 0:00:01\r\u001b[K     |█████████████████████           | 286kB 4.8MB/s eta 0:00:01\r\u001b[K     |█████████████████████▉          | 296kB 4.8MB/s eta 0:00:01\r\u001b[K     |██████████████████████▋         | 307kB 4.8MB/s eta 0:00:01\r\u001b[K     |███████████████████████▎        | 317kB 4.8MB/s eta 0:00:01\r\u001b[K     |████████████████████████        | 327kB 4.8MB/s eta 0:00:01\r\u001b[K     |████████████████████████▉       | 337kB 4.8MB/s eta 0:00:01\r\u001b[K     |█████████████████████████▋      | 348kB 4.8MB/s eta 0:00:01\r\u001b[K     |██████████████████████████▎     | 358kB 4.8MB/s eta 0:00:01\r\u001b[K     |███████████████████████████     | 368kB 4.8MB/s eta 0:00:01\r\u001b[K     |███████████████████████████▉    | 378kB 4.8MB/s eta 0:00:01\r\u001b[K     |████████████████████████████▋   | 389kB 4.8MB/s eta 0:00:01\r\u001b[K     |█████████████████████████████▍  | 399kB 4.8MB/s eta 0:00:01\r\u001b[K     |██████████████████████████████  | 409kB 4.8MB/s eta 0:00:01\r\u001b[K     |██████████████████████████████▉ | 419kB 4.8MB/s eta 0:00:01\r\u001b[K     |███████████████████████████████▋| 430kB 4.8MB/s eta 0:00:01\r\u001b[K     |████████████████████████████████| 440kB 4.8MB/s \n",
            "\u001b[?25hRequirement already satisfied: matplotlib in /usr/local/lib/python3.6/dist-packages (from cityscapesscripts) (3.1.3)\n",
            "Requirement already satisfied: numpy in /usr/local/lib/python3.6/dist-packages (from cityscapesscripts) (1.17.5)\n",
            "Requirement already satisfied: pillow in /usr/local/lib/python3.6/dist-packages (from cityscapesscripts) (6.2.2)\n",
            "Collecting appdirs\n",
            "  Downloading https://files.pythonhosted.org/packages/56/eb/810e700ed1349edde4cbdc1b2a21e28cdf115f9faf263f6bbf8447c1abf3/appdirs-1.4.3-py2.py3-none-any.whl\n",
            "Requirement already satisfied: pyparsing!=2.0.4,!=2.1.2,!=2.1.6,>=2.0.1 in /usr/local/lib/python3.6/dist-packages (from matplotlib->cityscapesscripts) (2.4.6)\n",
            "Requirement already satisfied: python-dateutil>=2.1 in /usr/local/lib/python3.6/dist-packages (from matplotlib->cityscapesscripts) (2.6.1)\n",
            "Requirement already satisfied: kiwisolver>=1.0.1 in /usr/local/lib/python3.6/dist-packages (from matplotlib->cityscapesscripts) (1.1.0)\n",
            "Requirement already satisfied: cycler>=0.10 in /usr/local/lib/python3.6/dist-packages (from matplotlib->cityscapesscripts) (0.10.0)\n",
            "Requirement already satisfied: six>=1.5 in /usr/local/lib/python3.6/dist-packages (from python-dateutil>=2.1->matplotlib->cityscapesscripts) (1.12.0)\n",
            "Requirement already satisfied: setuptools in /usr/local/lib/python3.6/dist-packages (from kiwisolver>=1.0.1->matplotlib->cityscapesscripts) (45.2.0)\n",
            "Installing collected packages: appdirs, cityscapesscripts\n",
            "Successfully installed appdirs-1.4.3 cityscapesscripts-1.3.1\n",
            "Reading package lists... Done\n",
            "Building dependency tree       \n",
            "Reading state information... Done\n",
            "python-tk is already the newest version (2.7.17-1~18.04).\n",
            "The following additional packages will be installed:\n",
            "  libaudio2 libmng2 libqt4-dbus libqt4-declarative libqt4-designer libqt4-help\n",
            "  libqt4-network libqt4-script libqt4-scripttools libqt4-sql libqt4-sql-mysql\n",
            "  libqt4-svg libqt4-test libqt4-xml libqt4-xmlpatterns libqtassistantclient4\n",
            "  libqtcore4 libqtdbus4 libqtgui4 python-sip qdbus qt-at-spi qtcore4-l10n\n",
            "Suggested packages:\n",
            "  nas libqt4-declarative-folderlistmodel libqt4-declarative-gestures\n",
            "  libqt4-declarative-particles libqt4-declarative-shaders qt4-qmlviewer\n",
            "  libqt4-dev libicu55 qt4-qtconfig python-qt4-dbg\n",
            "The following NEW packages will be installed:\n",
            "  libaudio2 libmng2 libqt4-dbus libqt4-declarative libqt4-designer libqt4-help\n",
            "  libqt4-network libqt4-script libqt4-scripttools libqt4-sql libqt4-sql-mysql\n",
            "  libqt4-svg libqt4-test libqt4-xml libqt4-xmlpatterns libqtassistantclient4\n",
            "  libqtcore4 libqtdbus4 libqtgui4 python-qt4 python-sip qdbus qt-at-spi\n",
            "  qtcore4-l10n\n",
            "0 upgraded, 24 newly installed, 0 to remove and 25 not upgraded.\n",
            "Need to get 17.1 MB of archives.\n",
            "After this operation, 66.3 MB of additional disk space will be used.\n",
            "Get:1 http://archive.ubuntu.com/ubuntu bionic/universe amd64 libmng2 amd64 2.0.2-0ubuntu3 [169 kB]\n",
            "Get:2 http://archive.ubuntu.com/ubuntu bionic/main amd64 libaudio2 amd64 1.9.4-6 [50.3 kB]\n",
            "Get:3 http://archive.ubuntu.com/ubuntu bionic/universe amd64 qtcore4-l10n all 4:4.8.7+dfsg-7ubuntu1 [617 kB]\n",
            "Get:4 http://archive.ubuntu.com/ubuntu bionic/universe amd64 libqtcore4 amd64 4:4.8.7+dfsg-7ubuntu1 [1,552 kB]\n",
            "Get:5 http://archive.ubuntu.com/ubuntu bionic/universe amd64 libqt4-xml amd64 4:4.8.7+dfsg-7ubuntu1 [96.1 kB]\n",
            "Get:6 http://archive.ubuntu.com/ubuntu bionic/universe amd64 libqtdbus4 amd64 4:4.8.7+dfsg-7ubuntu1 [186 kB]\n",
            "Get:7 http://archive.ubuntu.com/ubuntu bionic/universe amd64 qdbus amd64 4:4.8.7+dfsg-7ubuntu1 [30.0 kB]\n",
            "Get:8 http://archive.ubuntu.com/ubuntu bionic/universe amd64 libqt4-dbus amd64 4:4.8.7+dfsg-7ubuntu1 [6,440 B]\n",
            "Get:9 http://archive.ubuntu.com/ubuntu bionic/universe amd64 libqt4-network amd64 4:4.8.7+dfsg-7ubuntu1 [562 kB]\n",
            "Get:10 http://archive.ubuntu.com/ubuntu bionic/universe amd64 libqt4-script amd64 4:4.8.7+dfsg-7ubuntu1 [815 kB]\n",
            "Get:11 http://archive.ubuntu.com/ubuntu bionic/universe amd64 libqt4-sql amd64 4:4.8.7+dfsg-7ubuntu1 [98.5 kB]\n",
            "Get:12 http://archive.ubuntu.com/ubuntu bionic/universe amd64 libqt4-xmlpatterns amd64 4:4.8.7+dfsg-7ubuntu1 [1,091 kB]\n",
            "Get:13 http://archive.ubuntu.com/ubuntu bionic/universe amd64 libqtgui4 amd64 4:4.8.7+dfsg-7ubuntu1 [4,115 kB]\n",
            "Get:14 http://archive.ubuntu.com/ubuntu bionic/universe amd64 libqt4-declarative amd64 4:4.8.7+dfsg-7ubuntu1 [1,089 kB]\n",
            "Get:15 http://archive.ubuntu.com/ubuntu bionic/universe amd64 libqt4-designer amd64 4:4.8.7+dfsg-7ubuntu1 [3,629 kB]\n",
            "Get:16 http://archive.ubuntu.com/ubuntu bionic/universe amd64 libqt4-help amd64 4:4.8.7+dfsg-7ubuntu1 [207 kB]\n",
            "Get:17 http://archive.ubuntu.com/ubuntu bionic/universe amd64 libqt4-scripttools amd64 4:4.8.7+dfsg-7ubuntu1 [225 kB]\n",
            "Get:18 http://archive.ubuntu.com/ubuntu bionic/universe amd64 libqt4-sql-mysql amd64 4:4.8.7+dfsg-7ubuntu1 [30.5 kB]\n",
            "Get:19 http://archive.ubuntu.com/ubuntu bionic/universe amd64 libqt4-svg amd64 4:4.8.7+dfsg-7ubuntu1 [138 kB]\n",
            "Get:20 http://archive.ubuntu.com/ubuntu bionic/universe amd64 libqt4-test amd64 4:4.8.7+dfsg-7ubuntu1 [61.2 kB]\n",
            "Get:21 http://archive.ubuntu.com/ubuntu bionic/universe amd64 libqtassistantclient4 amd64 4.6.3-7build1 [12.7 kB]\n",
            "Get:22 http://archive.ubuntu.com/ubuntu bionic/universe amd64 python-sip amd64 4.19.7+dfsg-1 [75.4 kB]\n",
            "Get:23 http://archive.ubuntu.com/ubuntu bionic/universe amd64 python-qt4 amd64 4.12.1+dfsg-2 [2,194 kB]\n",
            "Get:24 http://archive.ubuntu.com/ubuntu bionic/universe amd64 qt-at-spi amd64 0.4.0-8 [58.6 kB]\n",
            "Fetched 17.1 MB in 4s (4,751 kB/s)\n",
            "debconf: unable to initialize frontend: Dialog\n",
            "debconf: (No usable dialog-like program is installed, so the dialog based frontend cannot be used. at /usr/share/perl5/Debconf/FrontEnd/Dialog.pm line 76, <> line 24.)\n",
            "debconf: falling back to frontend: Readline\n",
            "debconf: unable to initialize frontend: Readline\n",
            "debconf: (This frontend requires a controlling tty.)\n",
            "debconf: falling back to frontend: Teletype\n",
            "dpkg-preconfigure: unable to re-open stdin: \n",
            "Selecting previously unselected package libmng2:amd64.\n",
            "(Reading database ... 145118 files and directories currently installed.)\n",
            "Preparing to unpack .../00-libmng2_2.0.2-0ubuntu3_amd64.deb ...\n",
            "Unpacking libmng2:amd64 (2.0.2-0ubuntu3) ...\n",
            "Selecting previously unselected package libaudio2:amd64.\n",
            "Preparing to unpack .../01-libaudio2_1.9.4-6_amd64.deb ...\n",
            "Unpacking libaudio2:amd64 (1.9.4-6) ...\n",
            "Selecting previously unselected package qtcore4-l10n.\n",
            "Preparing to unpack .../02-qtcore4-l10n_4%3a4.8.7+dfsg-7ubuntu1_all.deb ...\n",
            "Unpacking qtcore4-l10n (4:4.8.7+dfsg-7ubuntu1) ...\n",
            "Selecting previously unselected package libqtcore4:amd64.\n",
            "Preparing to unpack .../03-libqtcore4_4%3a4.8.7+dfsg-7ubuntu1_amd64.deb ...\n",
            "Unpacking libqtcore4:amd64 (4:4.8.7+dfsg-7ubuntu1) ...\n",
            "Selecting previously unselected package libqt4-xml:amd64.\n",
            "Preparing to unpack .../04-libqt4-xml_4%3a4.8.7+dfsg-7ubuntu1_amd64.deb ...\n",
            "Unpacking libqt4-xml:amd64 (4:4.8.7+dfsg-7ubuntu1) ...\n",
            "Selecting previously unselected package libqtdbus4:amd64.\n",
            "Preparing to unpack .../05-libqtdbus4_4%3a4.8.7+dfsg-7ubuntu1_amd64.deb ...\n",
            "Unpacking libqtdbus4:amd64 (4:4.8.7+dfsg-7ubuntu1) ...\n",
            "Selecting previously unselected package qdbus.\n",
            "Preparing to unpack .../06-qdbus_4%3a4.8.7+dfsg-7ubuntu1_amd64.deb ...\n",
            "Unpacking qdbus (4:4.8.7+dfsg-7ubuntu1) ...\n",
            "Selecting previously unselected package libqt4-dbus:amd64.\n",
            "Preparing to unpack .../07-libqt4-dbus_4%3a4.8.7+dfsg-7ubuntu1_amd64.deb ...\n",
            "Unpacking libqt4-dbus:amd64 (4:4.8.7+dfsg-7ubuntu1) ...\n",
            "Selecting previously unselected package libqt4-network:amd64.\n",
            "Preparing to unpack .../08-libqt4-network_4%3a4.8.7+dfsg-7ubuntu1_amd64.deb ...\n",
            "Unpacking libqt4-network:amd64 (4:4.8.7+dfsg-7ubuntu1) ...\n",
            "Selecting previously unselected package libqt4-script:amd64.\n",
            "Preparing to unpack .../09-libqt4-script_4%3a4.8.7+dfsg-7ubuntu1_amd64.deb ...\n",
            "Unpacking libqt4-script:amd64 (4:4.8.7+dfsg-7ubuntu1) ...\n",
            "Selecting previously unselected package libqt4-sql:amd64.\n",
            "Preparing to unpack .../10-libqt4-sql_4%3a4.8.7+dfsg-7ubuntu1_amd64.deb ...\n",
            "Unpacking libqt4-sql:amd64 (4:4.8.7+dfsg-7ubuntu1) ...\n",
            "Selecting previously unselected package libqt4-xmlpatterns:amd64.\n",
            "Preparing to unpack .../11-libqt4-xmlpatterns_4%3a4.8.7+dfsg-7ubuntu1_amd64.deb ...\n",
            "Unpacking libqt4-xmlpatterns:amd64 (4:4.8.7+dfsg-7ubuntu1) ...\n",
            "Selecting previously unselected package libqtgui4:amd64.\n",
            "Preparing to unpack .../12-libqtgui4_4%3a4.8.7+dfsg-7ubuntu1_amd64.deb ...\n",
            "Unpacking libqtgui4:amd64 (4:4.8.7+dfsg-7ubuntu1) ...\n",
            "Selecting previously unselected package libqt4-declarative:amd64.\n",
            "Preparing to unpack .../13-libqt4-declarative_4%3a4.8.7+dfsg-7ubuntu1_amd64.deb ...\n",
            "Unpacking libqt4-declarative:amd64 (4:4.8.7+dfsg-7ubuntu1) ...\n",
            "Selecting previously unselected package libqt4-designer:amd64.\n",
            "Preparing to unpack .../14-libqt4-designer_4%3a4.8.7+dfsg-7ubuntu1_amd64.deb ...\n",
            "Unpacking libqt4-designer:amd64 (4:4.8.7+dfsg-7ubuntu1) ...\n",
            "Selecting previously unselected package libqt4-help:amd64.\n",
            "Preparing to unpack .../15-libqt4-help_4%3a4.8.7+dfsg-7ubuntu1_amd64.deb ...\n",
            "Unpacking libqt4-help:amd64 (4:4.8.7+dfsg-7ubuntu1) ...\n",
            "Selecting previously unselected package libqt4-scripttools:amd64.\n",
            "Preparing to unpack .../16-libqt4-scripttools_4%3a4.8.7+dfsg-7ubuntu1_amd64.deb ...\n",
            "Unpacking libqt4-scripttools:amd64 (4:4.8.7+dfsg-7ubuntu1) ...\n",
            "Selecting previously unselected package libqt4-sql-mysql:amd64.\n",
            "Preparing to unpack .../17-libqt4-sql-mysql_4%3a4.8.7+dfsg-7ubuntu1_amd64.deb ...\n",
            "Unpacking libqt4-sql-mysql:amd64 (4:4.8.7+dfsg-7ubuntu1) ...\n",
            "Selecting previously unselected package libqt4-svg:amd64.\n",
            "Preparing to unpack .../18-libqt4-svg_4%3a4.8.7+dfsg-7ubuntu1_amd64.deb ...\n",
            "Unpacking libqt4-svg:amd64 (4:4.8.7+dfsg-7ubuntu1) ...\n",
            "Selecting previously unselected package libqt4-test:amd64.\n",
            "Preparing to unpack .../19-libqt4-test_4%3a4.8.7+dfsg-7ubuntu1_amd64.deb ...\n",
            "Unpacking libqt4-test:amd64 (4:4.8.7+dfsg-7ubuntu1) ...\n",
            "Selecting previously unselected package libqtassistantclient4:amd64.\n",
            "Preparing to unpack .../20-libqtassistantclient4_4.6.3-7build1_amd64.deb ...\n",
            "Unpacking libqtassistantclient4:amd64 (4.6.3-7build1) ...\n",
            "Selecting previously unselected package python-sip.\n",
            "Preparing to unpack .../21-python-sip_4.19.7+dfsg-1_amd64.deb ...\n",
            "Unpacking python-sip (4.19.7+dfsg-1) ...\n",
            "Selecting previously unselected package python-qt4.\n",
            "Preparing to unpack .../22-python-qt4_4.12.1+dfsg-2_amd64.deb ...\n",
            "Unpacking python-qt4 (4.12.1+dfsg-2) ...\n",
            "Selecting previously unselected package qt-at-spi:amd64.\n",
            "Preparing to unpack .../23-qt-at-spi_0.4.0-8_amd64.deb ...\n",
            "Unpacking qt-at-spi:amd64 (0.4.0-8) ...\n",
            "Setting up qtcore4-l10n (4:4.8.7+dfsg-7ubuntu1) ...\n",
            "Setting up libmng2:amd64 (2.0.2-0ubuntu3) ...\n",
            "Setting up libqtcore4:amd64 (4:4.8.7+dfsg-7ubuntu1) ...\n",
            "Setting up libqt4-test:amd64 (4:4.8.7+dfsg-7ubuntu1) ...\n",
            "Setting up libqt4-xml:amd64 (4:4.8.7+dfsg-7ubuntu1) ...\n",
            "Setting up libaudio2:amd64 (1.9.4-6) ...\n",
            "Setting up python-sip (4.19.7+dfsg-1) ...\n",
            "Setting up libqt4-sql:amd64 (4:4.8.7+dfsg-7ubuntu1) ...\n",
            "Setting up libqtdbus4:amd64 (4:4.8.7+dfsg-7ubuntu1) ...\n",
            "Setting up libqt4-script:amd64 (4:4.8.7+dfsg-7ubuntu1) ...\n",
            "Setting up libqt4-sql-mysql:amd64 (4:4.8.7+dfsg-7ubuntu1) ...\n",
            "Setting up qdbus (4:4.8.7+dfsg-7ubuntu1) ...\n",
            "Setting up libqt4-dbus:amd64 (4:4.8.7+dfsg-7ubuntu1) ...\n",
            "Setting up libqt4-network:amd64 (4:4.8.7+dfsg-7ubuntu1) ...\n",
            "Setting up libqt4-xmlpatterns:amd64 (4:4.8.7+dfsg-7ubuntu1) ...\n",
            "Setting up libqtassistantclient4:amd64 (4.6.3-7build1) ...\n",
            "Setting up libqt4-declarative:amd64 (4:4.8.7+dfsg-7ubuntu1) ...\n",
            "Setting up libqtgui4:amd64 (4:4.8.7+dfsg-7ubuntu1) ...\n",
            "Setting up qt-at-spi:amd64 (0.4.0-8) ...\n",
            "Setting up libqt4-designer:amd64 (4:4.8.7+dfsg-7ubuntu1) ...\n",
            "Setting up libqt4-help:amd64 (4:4.8.7+dfsg-7ubuntu1) ...\n",
            "Setting up libqt4-svg:amd64 (4:4.8.7+dfsg-7ubuntu1) ...\n",
            "Setting up libqt4-scripttools:amd64 (4:4.8.7+dfsg-7ubuntu1) ...\n",
            "Setting up python-qt4 (4.12.1+dfsg-2) ...\n",
            "Processing triggers for libc-bin (2.27-3ubuntu1) ...\n",
            "/sbin/ldconfig.real: /usr/local/lib/python3.6/dist-packages/ideep4py/lib/libmkldnn.so.0 is not a symbolic link\n",
            "\n",
            "Processing triggers for man-db (2.8.3-2ubuntu0.1) ...\n"
          ],
          "name": "stdout"
        }
      ]
    },
    {
      "cell_type": "code",
      "metadata": {
        "id": "RZzfpy_nzOPV",
        "colab_type": "code",
        "colab": {
          "base_uri": "https://localhost:8080/",
          "height": 208
        },
        "outputId": "e2820252-0d0f-48a5-ebfb-ec8eac2c4cdb"
      },
      "source": [
        "!csDownload"
      ],
      "execution_count": 11,
      "outputs": [
        {
          "output_type": "stream",
          "text": [
            "Cityscapes username or email address: ftaubner\n",
            "Cityscapes password: \n",
            "Store credentials unencrypted in '/root/.local/share/cityscapesscripts/credentials.json' [y/N]: y\n",
            "Traceback (most recent call last):\n",
            "  File \"/usr/local/bin/csDownload\", line 8, in <module>\n",
            "    sys.exit(main())\n",
            "  File \"/usr/local/lib/python3.6/dist-packages/cityscapesscripts/download/downloader.py\", line 135, in main\n",
            "    session = login()\n",
            "  File \"/usr/local/lib/python3.6/dist-packages/cityscapesscripts/download/downloader.py\", line 57, in login\n",
            "    raise Exception(\"Bad credentials.\")\n",
            "Exception: Bad credentials.\n"
          ],
          "name": "stdout"
        }
      ]
    },
    {
      "cell_type": "code",
      "metadata": {
        "id": "QM1GyIOSzP06",
        "colab_type": "code",
        "colab": {
          "base_uri": "https://localhost:8080/",
          "height": 499
        },
        "outputId": "76d39b33-98b8-45e8-a788-40895102a08d"
      },
      "source": [
        "!pip install PyQt5\n",
        "\n",
        "import sip"
      ],
      "execution_count": 12,
      "outputs": [
        {
          "output_type": "stream",
          "text": [
            "Collecting PyQt5\n",
            "\u001b[?25l  Downloading https://files.pythonhosted.org/packages/bb/47/640737c9d2eb76a2bf6e8dc101dd195caea07985f1932976629c02ad1432/PyQt5-5.14.1-5.14.1-cp35.cp36.cp37.cp38-abi3-manylinux2014_x86_64.whl (63.5MB)\n",
            "\u001b[K     |████████████████████████████████| 63.5MB 157kB/s \n",
            "\u001b[?25hCollecting PyQt5-sip<13,>=12.7\n",
            "\u001b[?25l  Downloading https://files.pythonhosted.org/packages/a7/5b/4470b7689d683908c3113f489cae3f4f9ed621756770b33fcd603c4d426e/PyQt5_sip-12.7.1-cp36-cp36m-manylinux1_x86_64.whl (252kB)\n",
            "\u001b[K     |████████████████████████████████| 256kB 53.0MB/s \n",
            "\u001b[?25hInstalling collected packages: PyQt5-sip, PyQt5\n",
            "Successfully installed PyQt5-5.14.1 PyQt5-sip-12.7.1\n"
          ],
          "name": "stdout"
        },
        {
          "output_type": "error",
          "ename": "ModuleNotFoundError",
          "evalue": "ignored",
          "traceback": [
            "\u001b[0;31m---------------------------------------------------------------------------\u001b[0m",
            "\u001b[0;31mModuleNotFoundError\u001b[0m                       Traceback (most recent call last)",
            "\u001b[0;32m<ipython-input-12-1b655ec17359>\u001b[0m in \u001b[0;36m<module>\u001b[0;34m()\u001b[0m\n\u001b[1;32m      1\u001b[0m \u001b[0mget_ipython\u001b[0m\u001b[0;34m(\u001b[0m\u001b[0;34m)\u001b[0m\u001b[0;34m.\u001b[0m\u001b[0msystem\u001b[0m\u001b[0;34m(\u001b[0m\u001b[0;34m'pip install PyQt5'\u001b[0m\u001b[0;34m)\u001b[0m\u001b[0;34m\u001b[0m\u001b[0;34m\u001b[0m\u001b[0m\n\u001b[1;32m      2\u001b[0m \u001b[0;34m\u001b[0m\u001b[0m\n\u001b[0;32m----> 3\u001b[0;31m \u001b[0;32mimport\u001b[0m \u001b[0msip\u001b[0m\u001b[0;34m\u001b[0m\u001b[0;34m\u001b[0m\u001b[0m\n\u001b[0m",
            "\u001b[0;31mModuleNotFoundError\u001b[0m: No module named 'sip'",
            "",
            "\u001b[0;31m---------------------------------------------------------------------------\u001b[0;32m\nNOTE: If your import is failing due to a missing package, you can\nmanually install dependencies using either !pip or !apt.\n\nTo view examples of installing some common dependencies, click the\n\"Open Examples\" button below.\n\u001b[0;31m---------------------------------------------------------------------------\u001b[0m\n"
          ]
        }
      ]
    },
    {
      "cell_type": "markdown",
      "metadata": {
        "id": "PwU_f_b7nH-O",
        "colab_type": "text"
      },
      "source": [
        "We start with the detection of objects of interest. Faster R-CNN is used for this task. (Julius)"
      ]
    },
    {
      "cell_type": "code",
      "metadata": {
        "id": "0UEmUojHy0Zy",
        "colab_type": "code",
        "colab": {}
      },
      "source": [
        "# install dependencies: (use cu100 because colab is on CUDA 10.0)\n",
        "!pip install -U torch==1.4+cu100 torchvision==0.5+cu100 -f https://download.pytorch.org/whl/torch_stable.html \n",
        "!pip install cython pyyaml==5.1\n",
        "!pip install -U 'git+https://github.com/cocodataset/cocoapi.git#subdirectory=PythonAPI'\n",
        "import torch, torchvision\n",
        "torch.__version__\n",
        "!gcc --version\n",
        "# opencv is pre-installed on colab"
      ],
      "execution_count": 0,
      "outputs": []
    },
    {
      "cell_type": "code",
      "metadata": {
        "id": "dbkKU6cny-6w",
        "colab_type": "code",
        "colab": {}
      },
      "source": [
        "# install detectron2:\n",
        "!pip install detectron2 -f https://dl.fbaipublicfiles.com/detectron2/wheels/cu100/index.html"
      ],
      "execution_count": 0,
      "outputs": []
    },
    {
      "cell_type": "code",
      "metadata": {
        "id": "gEnImM8jzDVU",
        "colab_type": "code",
        "colab": {}
      },
      "source": [
        "# You may need to restart your runtime prior to this, to let your installation take effect\n",
        "# Some basic setup:\n",
        "# Setup detectron2 logger\n",
        "import detectron2\n",
        "from detectron2.utils.logger import setup_logger\n",
        "setup_logger()\n",
        "\n",
        "# import some common libraries\n",
        "import numpy as np\n",
        "import cv2\n",
        "import random\n",
        "from google.colab.patches import cv2_imshow\n",
        "\n",
        "# import some common detectron2 utilities\n",
        "from detectron2 import model_zoo\n",
        "from detectron2.engine import DefaultPredictor\n",
        "from detectron2.config import get_cfg\n",
        "from detectron2.utils.visualizer import Visualizer\n",
        "from detectron2.data import MetadataCatalog"
      ],
      "execution_count": 0,
      "outputs": []
    },
    {
      "cell_type": "markdown",
      "metadata": {
        "id": "pXh-WMRDzqFe",
        "colab_type": "text"
      },
      "source": [
        "Loading an on COCO pre-trained Faster R-CNN \n"
      ]
    },
    {
      "cell_type": "code",
      "metadata": {
        "id": "NNOoJunDzH55",
        "colab_type": "code",
        "colab": {}
      },
      "source": [
        "cfg = get_cfg()\n",
        "# add project-specific config (e.g., TensorMask) here if you're not running a model in detectron2's core library\n",
        "cfg.merge_from_file(model_zoo.get_config_file(\"COCO-PanopticSegmentation/panoptic_fpn_R_101_3x.yaml\"))\n",
        "cfg.MODEL.ROI_HEADS.SCORE_THRESH_TEST = 0.5  # set threshold for this model\n",
        "# Find a model from detectron2's model zoo. You can use the https://dl.fbaipublicfiles... url as well\n",
        "cfg.MODEL.WEIGHTS = model_zoo.get_checkpoint_url(\"COCO-PanopticSegmentation/panoptic_fpn_R_101_3x.yaml\")\n",
        "predictor = DefaultPredictor(cfg)\n",
        "im = cv2.imread(\"Test.jpeg\")\n",
        "plt.imshow(im)\n",
        "outputs = predictor(im)"
      ],
      "execution_count": 0,
      "outputs": []
    },
    {
      "cell_type": "code",
      "metadata": {
        "id": "Yphk0gIdzvEm",
        "colab_type": "code",
        "colab": {}
      },
      "source": [
        "#visualize results\n",
        "v = Visualizer(im[:, :, ::-1], MetadataCatalog.get(cfg.DATASETS.TRAIN[0]), scale=1.2)\n",
        "v = v.draw_instance_predictions(outputs[\"instances\"].to(\"cpu\"))\n",
        "plt.imshow(v.get_image()[:, :, :])"
      ],
      "execution_count": 0,
      "outputs": []
    },
    {
      "cell_type": "markdown",
      "metadata": {
        "id": "gO8ZQm5lzz5s",
        "colab_type": "text"
      },
      "source": [
        "Installing Seamless Scene Segmentation from https://github.com/mapillary/seamseg\n",
        "For Seamless Scene Segmentation a pre-trained version on the Mapillary Dataset exists. Dataloaders for Cityscapes seem to exist, too.\n",
        "\n",
        "It is a network for panoptic segmentation basen on Mask-R-CNN. Alternatively the panoptic variant in the detectron2 reopisitory can also be trained on Cityscapes or Mapillary. Dataloaders seem to exist for both Datasets. "
      ]
    },
    {
      "cell_type": "code",
      "metadata": {
        "id": "PLq9ofO5zzmS",
        "colab_type": "code",
        "colab": {}
      },
      "source": [
        "#@title\n",
        "!pip install git+https://github.com/mapillary/seamseg.git\n",
        "!pip install wget\n",
        "\n",
        "url = 'https://drive.google.com/file/d/1ULhd_CZ24L8FnI9lZ2H6Xuf03n6NA_-Y/view'\n",
        "wget.download(url)\n"
      ],
      "execution_count": 0,
      "outputs": []
    }
  ]
}